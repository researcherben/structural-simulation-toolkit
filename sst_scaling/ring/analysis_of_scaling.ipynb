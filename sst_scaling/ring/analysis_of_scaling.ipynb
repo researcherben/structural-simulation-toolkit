{
 "cells": [
  {
   "cell_type": "raw",
   "metadata": {},
   "source": [
    "{ for node_count in {1..100..20}; do time sst config_network.py 10 ${node_count}; done } > ring_concurrent_messages_to100nodes_step20 2>&1"
   ]
  },
  {
   "cell_type": "raw",
   "metadata": {},
   "source": [
    "{ for node_count in {1..1000..100}; do time sst config_network.py 10 ${node_count}; done } > ring_concurrent_messages_to1000nodes_step100 2>&1"
   ]
  },
  {
   "cell_type": "raw",
   "metadata": {},
   "source": [
    "{ for node_count in {1..10000..1000}; do time sst config_network.py 10 ${node_count}; done } > ring_concurrent_messages_to10000nodes_step1000 2>&1"
   ]
  },
  {
   "cell_type": "code",
   "execution_count": 1,
   "metadata": {},
   "outputs": [],
   "source": [
    "import pandas\n",
    "import matplotlib.pyplot as plt"
   ]
  },
  {
   "cell_type": "code",
   "execution_count": 2,
   "metadata": {},
   "outputs": [],
   "source": [
    "with open(\"ring_10_concurrent_messages_to100001nodes_step10000\",\"r\") as file_handle:\n",
    "    file_content = file_handle.readlines()"
   ]
  },
  {
   "cell_type": "code",
   "execution_count": 3,
   "metadata": {},
   "outputs": [],
   "source": [
    "results_list = []\n",
    "results_dict = {}\n",
    "for line in file_content:\n",
    "    #print(line.strip())\n",
    "    if line.startswith(\"ticks:\"):\n",
    "        results_dict['ticks'] = line.split(\" \")[-1].strip()\n",
    "    if line.startswith(\"nodes:\"):\n",
    "        results_dict['nodes'] = line.split(\" \")[-1].strip()\n",
    "    if line.startswith(\"real\"):\n",
    "        time_str = line.split(\"\\t\")[-1].strip()\n",
    "        minutes = time_str.split(\"m\")[0]\n",
    "        seconds = time_str.split(\"m\")[-1].replace(\"s\",\"\")\n",
    "        results_dict['time [seconds]'] = int(minutes)*60 + float(seconds)\n",
    "        results_list.append(results_dict)\n",
    "        results_dict = {}\n",
    "    #print(results_dict)"
   ]
  },
  {
   "cell_type": "code",
   "execution_count": 4,
   "metadata": {},
   "outputs": [],
   "source": [
    "df = pandas.DataFrame(results_list)\n",
    "#df"
   ]
  },
  {
   "cell_type": "code",
   "execution_count": 5,
   "metadata": {},
   "outputs": [
    {
     "data": {
      "text/plain": [
       "<Figure size 432x288 with 0 Axes>"
      ]
     },
     "metadata": {},
     "output_type": "display_data"
    },
    {
     "data": {
      "image/png": "[encoded data removed]",
      "text/plain": [
       "<Figure size 432x288 with 1 Axes>"
      ]
     },
     "metadata": {
      "needs_background": "light"
     },
     "output_type": "display_data"
    }
   ],
   "source": [
    "fig = plt.figure()\n",
    "ax1 = df.plot.scatter(x='nodes',y='time [seconds]')\n",
    "ax1.set_title(\"ring of components with concurrent messaging\");\n",
    "fig.savefig('scaling_of_ring_with_concurrent_messaging.png')"
   ]
  },
  {
   "cell_type": "code",
   "execution_count": null,
   "metadata": {},
   "outputs": [],
   "source": []
  }
 ],
 "metadata": {
  "kernelspec": {
   "display_name": "Python 3",
   "language": "python",
   "name": "python3"
  },
  "language_info": {
   "codemirror_mode": {
    "name": "ipython",
    "version": 3
   },
   "file_extension": ".py",
   "mimetype": "text/x-python",
   "name": "python",
   "nbconvert_exporter": "python",
   "pygments_lexer": "ipython3",
   "version": "3.8.6"
  }
 },
 "nbformat": 4,
 "nbformat_minor": 4
}
